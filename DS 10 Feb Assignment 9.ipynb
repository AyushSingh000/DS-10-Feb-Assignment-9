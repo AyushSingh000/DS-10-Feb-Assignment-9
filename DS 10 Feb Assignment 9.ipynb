{
 "cells": [
  {
   "cell_type": "code",
   "execution_count": 1,
   "id": "22ee3c1b-47f9-481b-96dd-6cfc2b3bf8b8",
   "metadata": {},
   "outputs": [
    {
     "data": {
      "text/plain": [
       "'In Python, the open() function is used to open a file. \\nIt takes two arguments - the first argument is the name of the file, and the second argument is the mode in which the file is to be opened.\\nThere are different modes of opening a file in Python:\\nRead mode (‘r’): This is the default mode. It is used to read the contents of a file. If the file does not exist, it will raise an error.\\nWrite mode (‘w’): This mode is used to write to a file. If the file already exists, it will overwrite the existing file. If the file does not exist, it will create a new file.\\nAppend mode (‘a’): This mode is used to append the content to the end of the file. If the file does not exist, it will create a new file.\\nBinary mode (‘b’): This mode is used for non-text files like images, videos, etc. It is used in combination with read/write/append modes.'"
      ]
     },
     "execution_count": 1,
     "metadata": {},
     "output_type": "execute_result"
    }
   ],
   "source": [
    "# Answer 1\n",
    "'''In Python, the open() function is used to open a file. \n",
    "It takes two arguments - the first argument is the name of the file, and the second argument is the mode in which the file is to be opened.\n",
    "There are different modes of opening a file in Python:\n",
    "Read mode (‘r’): This is the default mode. It is used to read the contents of a file. If the file does not exist, it will raise an error.\n",
    "Write mode (‘w’): This mode is used to write to a file. If the file already exists, it will overwrite the existing file. If the file does not exist, it will create a new file.\n",
    "Append mode (‘a’): This mode is used to append the content to the end of the file. If the file does not exist, it will create a new file.\n",
    "Binary mode (‘b’): This mode is used for non-text files like images, videos, etc. It is used in combination with read/write/append modes.'''"
   ]
  },
  {
   "cell_type": "code",
   "execution_count": 2,
   "id": "d3ee1fca-11f5-4bb2-8d40-70535886c525",
   "metadata": {},
   "outputs": [
    {
     "data": {
      "text/plain": [
       "'The close() function is used to close a file after it has been opened for reading or writing data. \\nIt is important to close a file because when a file is opened, it takes up system resources and memory until it is closed. \\nIf a large number of files are left open, it can cause memory and resource issues for the system.\\nAdditionally, closing a file ensures that any changes made to the file are properly saved before the program exits. \\nIf a file is not closed, any changes made to it may not be saved, resulting in data loss or corruption.'"
      ]
     },
     "execution_count": 2,
     "metadata": {},
     "output_type": "execute_result"
    }
   ],
   "source": [
    "# Answer 2\n",
    "'''The close() function is used to close a file after it has been opened for reading or writing data. \n",
    "It is important to close a file because when a file is opened, it takes up system resources and memory until it is closed. \n",
    "If a large number of files are left open, it can cause memory and resource issues for the system.\n",
    "Additionally, closing a file ensures that any changes made to the file are properly saved before the program exits. \n",
    "If a file is not closed, any changes made to it may not be saved, resulting in data loss or corruption.'''"
   ]
  },
  {
   "cell_type": "code",
   "execution_count": 6,
   "id": "833f5ae6-6dba-455f-adac-c96e5959633b",
   "metadata": {},
   "outputs": [
    {
     "name": "stdout",
     "output_type": "stream",
     "text": [
      "I want to become a Data Scientist\n"
     ]
    }
   ],
   "source": [
    "# Answer 3\n",
    "file=open('test.txt', 'w')\n",
    "file.write('I want to become a Data Scientist')\n",
    "file.close()\n",
    "\n",
    "file=open('test.txt', 'r')\n",
    "content=file.read()\n",
    "print(content)\n",
    "file.close()"
   ]
  },
  {
   "cell_type": "code",
   "execution_count": 8,
   "id": "1195d18e-1e1c-440b-a045-a8dd66b6aa5b",
   "metadata": {},
   "outputs": [
    {
     "data": {
      "text/plain": [
       "'1---read() is a method in Python that is used to read a specified number of characters from a file. \\nWhen read() method is called without an argument, it reads the entire contents of the file. \\n2---readline() method is used to read a single line from a file. \\nIt reads a line at a time, rather than the whole file. \\n3---readlines() method is used to read all the lines of a file and store them in a list. \\nEach line of the file is stored as a separate string in the list.'"
      ]
     },
     "execution_count": 8,
     "metadata": {},
     "output_type": "execute_result"
    }
   ],
   "source": [
    "# Answer 4\n",
    "'''1---read() is a method in Python that is used to read a specified number of characters from a file. \n",
    "When read() method is called without an argument, it reads the entire contents of the file. \n",
    "2---readline() method is used to read a single line from a file. \n",
    "It reads a line at a time, rather than the whole file. \n",
    "3---readlines() method is used to read all the lines of a file and store them in a list. \n",
    "Each line of the file is stored as a separate string in the list.''' "
   ]
  },
  {
   "cell_type": "code",
   "execution_count": 9,
   "id": "dd2c1796-920d-48cf-aeae-df5d71f6fdc0",
   "metadata": {},
   "outputs": [
    {
     "data": {
      "text/plain": [
       "'The with statement in Python is used to define a block of code to be executed with a context defined. \\nIn the case of file handling, it ensures that the file is closed once the block of code is executed, even if there is an exception raised in the code block.\\nThe advantage of using with statement and open() together is that it simplifies the code and reduces the chances of errors that might occur when you have to manually close the file. \\nThe file will be automatically closed once the block of code is executed, whether there was an exception or not.'"
      ]
     },
     "execution_count": 9,
     "metadata": {},
     "output_type": "execute_result"
    }
   ],
   "source": [
    "# Answer 5\n",
    "'''The with statement in Python is used to define a block of code to be executed with a context defined. \n",
    "In the case of file handling, it ensures that the file is closed once the block of code is executed, even if there is an exception raised in the code block.\n",
    "The advantage of using with statement and open() together is that it simplifies the code and reduces the chances of errors that might occur when you have to manually close the file. \n",
    "The file will be automatically closed once the block of code is executed, whether there was an exception or not.'''"
   ]
  },
  {
   "cell_type": "code",
   "execution_count": 10,
   "id": "b6c61f8c-cf50-4cf0-9be7-57e25cdd8fe9",
   "metadata": {},
   "outputs": [],
   "source": [
    "# Answer 6\n",
    "'''The write() function writes a single string to a file. It returns the number of characters written to the file. If the file does not exist, it will create a new file with the given name. \n",
    "If the file exists, it will overwrite the existing content of the file. Here is an example code:'''\n",
    "file = open('ex.txt', 'w')\n",
    "file.write('Hey')\n",
    "file.close()"
   ]
  },
  {
   "cell_type": "code",
   "execution_count": 11,
   "id": "39e04ded-1362-4281-ab11-7c380dc4151c",
   "metadata": {},
   "outputs": [],
   "source": [
    "'''The writelines() function writes a list of strings to a file.\n",
    "Each string is written to the file as a separate line. \n",
    "It does not add any newlines or separators between the lines. If the file does not exist, it will create a new file with the given name.\n",
    "If the file exists, it will overwrite the existing content of the file. Here is an example code:'''\n",
    "file=open('ex1.txt', 'w')\n",
    "lines=['apple\\n','banana\\n','mango\\n']\n",
    "file.writelines(lines)\n",
    "file.close()"
   ]
  },
  {
   "cell_type": "code",
   "execution_count": null,
   "id": "68fe6fcd-ea90-4733-8cea-adba6770b220",
   "metadata": {},
   "outputs": [],
   "source": []
  }
 ],
 "metadata": {
  "kernelspec": {
   "display_name": "Python 3 (ipykernel)",
   "language": "python",
   "name": "python3"
  },
  "language_info": {
   "codemirror_mode": {
    "name": "ipython",
    "version": 3
   },
   "file_extension": ".py",
   "mimetype": "text/x-python",
   "name": "python",
   "nbconvert_exporter": "python",
   "pygments_lexer": "ipython3",
   "version": "3.10.8"
  }
 },
 "nbformat": 4,
 "nbformat_minor": 5
}
